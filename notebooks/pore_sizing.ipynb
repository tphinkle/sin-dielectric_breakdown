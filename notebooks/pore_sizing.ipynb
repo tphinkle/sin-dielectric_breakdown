{
 "cells": [
  {
   "cell_type": "markdown",
   "metadata": {},
   "source": [
    "# Pore sizing from IV\n",
    "### Uses the following equation to size pores where access resistance is significant\n",
    "\n",
    "$$ G = \\sigma\\left[\\frac{4t}{\\pi d^{2}}+\\frac{1}{d}\\right]^{-1} $$\n",
    "\n"
   ]
  },
  {
   "cell_type": "markdown",
   "metadata": {},
   "source": [
    "## Imports"
   ]
  },
  {
   "cell_type": "code",
   "execution_count": 1,
   "metadata": {
    "collapsed": true
   },
   "outputs": [],
   "source": [
    "# Python standard library\n",
    "import csv\n",
    "\n",
    "# Scientific computing\n",
    "import numpy as np\n",
    "import scipy.optimize\n",
    "import matplotlib.pyplot as plt"
   ]
  },
  {
   "cell_type": "markdown",
   "metadata": {},
   "source": [
    "## Open data"
   ]
  },
  {
   "cell_type": "code",
   "execution_count": 6,
   "metadata": {
    "collapsed": true
   },
   "outputs": [],
   "source": [
    "# Insert the file path to the IV curve (taken from the nanopore wizard software)\n",
    "iv_file_path = '../data/S4/S4_SiN_pH10_8V_1MKCla.txt'"
   ]
  },
  {
   "cell_type": "code",
   "execution_count": 7,
   "metadata": {
    "collapsed": true
   },
   "outputs": [],
   "source": [
    "def LoadIVNanoporeWizard(file_path):\n",
    "    with open(file_path, 'r') as file_handle:\n",
    "        file_reader = csv.reader(file_handle, delimiter = '\\t')\n",
    "        \n",
    "        # Skip header\n",
    "        header_rows = 3\n",
    "        for i in range(header_rows):\n",
    "            file_reader.next()\n",
    "            \n",
    "            \n",
    "        # Load in data\n",
    "        voltages = []\n",
    "        currents = []\n",
    "        for row in file_reader:\n",
    "            voltages.append(float(row[-2]))\n",
    "            currents.append(float(row[-1]))\n",
    "            \n",
    "    return voltages, currents\n",
    "        \n",
    "def FitConductance(voltages, currents, side = 'both'):\n",
    "    '''\n",
    "    * 'side' argument is whether you want to use negative voltage conductance ('left'),\\\n",
    "       positive voltage conductance ('right'), or the entire sweep ('both')\n",
    "    '''\n",
    "    \n",
    "    \n",
    "    N_points = len(voltages)\n",
    "    if side == 'left':\n",
    "        fit = np.polyfit(voltages[:N_points/2], currents[:N_points/2], 1)\n",
    "        \n",
    "    elif side == 'right':\n",
    "        fit = np.polyfit(voltages[N_points/2:], currents[N_points/2:], 1)\n",
    "        \n",
    "    elif side == 'both':\n",
    "        fit = np.polyfit(voltages, currents, 1)\n",
    "        \n",
    "    return fit"
   ]
  },
  {
   "cell_type": "code",
   "execution_count": 12,
   "metadata": {
    "collapsed": false
   },
   "outputs": [
    {
     "name": "stdout",
     "output_type": "stream",
     "text": [
      "[  5.85914848e-08   8.16124667e-09]\n"
     ]
    }
   ],
   "source": [
    "voltages, currents = LoadIVNanoporeWizard(iv_file_path)"
   ]
  },
  {
   "cell_type": "markdown",
   "metadata": {},
   "source": [
    "## Get conductance"
   ]
  },
  {
   "cell_type": "code",
   "execution_count": 43,
   "metadata": {
    "collapsed": false
   },
   "outputs": [
    {
     "name": "stdout",
     "output_type": "stream",
     "text": [
      "conductance =  1.47246090909e-08\n"
     ]
    }
   ],
   "source": [
    "fit = FitConductance(voltages, currents, side = 'right')\n",
    "\n",
    "fit_currents = [-1,1]\n",
    "fit_voltages = [fit[0]*fit_current + fit[1] for fit_current in fit_currents]\n",
    "\n",
    "G = fit[0]\n",
    "print 'conductance = ', G"
   ]
  },
  {
   "cell_type": "code",
   "execution_count": 44,
   "metadata": {
    "collapsed": false
   },
   "outputs": [
    {
     "data": {
      "image/png": "[encoded data removed]",
      "text/plain": [
       "<matplotlib.figure.Figure at 0x7f4a4937b450>"
      ]
     },
     "metadata": {},
     "output_type": "display_data"
    }
   ],
   "source": [
    "plt.plot(voltages, currents, marker = 's')\n",
    "plt.plot(fit_currents, fit_voltages, lw = 3, ls = '--', c = 'k')\n",
    "\n",
    "plt.ylim(-np.max(np.abs(currents)), np.max(np.abs(currents)))\n",
    "\n",
    "plt.xlabel('Voltage (V)')\n",
    "plt.ylabel('Current (A)')\n",
    "plt.grid()\n",
    "\n",
    "\n",
    "plt.show()"
   ]
  },
  {
   "cell_type": "markdown",
   "metadata": {},
   "source": [
    "## Solve for diameter\n",
    "- Solve quadratic equation for diameter\n",
    "\n",
    "$$ G = \\sigma\\left[\\frac{4t}{\\pi d^{2}}+\\frac{1}{d}\\right]^{-1} $$\n",
    "\n",
    "$$ d = \\frac{1\\pm\\sqrt{1+\\frac{16\\sigma t}{\\pi G}}}{2\\frac{\\sigma}{G}}    $$"
   ]
  },
  {
   "cell_type": "code",
   "execution_count": 45,
   "metadata": {
    "collapsed": true
   },
   "outputs": [],
   "source": [
    "nm = 10**(-9.)\n",
    "t = 10*nm\n",
    "sigma = 10.\n",
    "\n",
    "\n",
    "include_access = True\n",
    "def conductance(d):\n",
    "    return G-sigma * ((4*t)/(np.pi*d**2.) + include_access * 1./d)**(-1.)"
   ]
  },
  {
   "cell_type": "code",
   "execution_count": 46,
   "metadata": {
    "collapsed": false
   },
   "outputs": [
    {
     "name": "stdout",
     "output_type": "stream",
     "text": [
      "Diameter of pore: 5.1282675511e-09\n"
     ]
    }
   ],
   "source": [
    "print 'Diameter of pore:', (1+np.sqrt(1-4*sigma/G*(-4*t/np.pi)))/(2*sigma/G)"
   ]
  },
  {
   "cell_type": "code",
   "execution_count": null,
   "metadata": {
    "collapsed": true
   },
   "outputs": [],
   "source": []
  }
 ],
 "metadata": {
  "anaconda-cloud": {},
  "kernelspec": {
   "display_name": "Python [conda env:py27]",
   "language": "python",
   "name": "conda-env-py27-py"
  },
  "language_info": {
   "codemirror_mode": {
    "name": "ipython",
    "version": 2
   },
   "file_extension": ".py",
   "mimetype": "text/x-python",
   "name": "python",
   "nbconvert_exporter": "python",
   "pygments_lexer": "ipython2",
   "version": "2.7.12"
  }
 },
 "nbformat": 4,
 "nbformat_minor": 1
}
